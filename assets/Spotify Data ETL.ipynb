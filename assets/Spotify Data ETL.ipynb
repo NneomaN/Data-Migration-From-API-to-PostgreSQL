{
 "cells": [
  {
   "cell_type": "markdown",
   "metadata": {
    "application/vnd.databricks.v1+cell": {
     "cellMetadata": {
      "byteLimit": 2048000,
      "rowLimit": 10000
     },
     "inputWidgets": {},
     "nuid": "3c1c98c9-dfc4-4ccc-b18d-af526315534c",
     "showTitle": false,
     "tableResultSettingsMap": {},
     "title": ""
    }
   },
   "source": [
    "\n",
    "###Set up Spotify App\n",
    "Login to [developer.spotify.com](url) using the details associated with the existing Spotify account.\n",
    "![](path)\n",
    "\n",
    "Create an app, this will give access to app credentials necessary for authorization and tokenization.\n",
    "\n",
    "Go to newly created App settings and copy the _Client ID_, _Client Secret_ and _Redirect URI_.\n",
    "\n"
   ]
  },
  {
   "cell_type": "markdown",
   "metadata": {
    "application/vnd.databricks.v1+cell": {
     "cellMetadata": {
      "byteLimit": 2048000,
      "rowLimit": 10000
     },
     "inputWidgets": {},
     "nuid": "2b7488d2-7632-43e2-a88e-c20d41d9b228",
     "showTitle": false,
     "tableResultSettingsMap": {},
     "title": ""
    }
   },
   "source": [
    "###Get Authorisation Code\n",
    "Open the Authorization URL in a Web browser and construct the URL with the proper values for the query parameters and paste it into your browser:\n",
    "\n",
    "`https://accounts.spotify.com/authorize\n",
    "?client_id=<your_client_id>\n",
    "&response_type=code\n",
    "&redirect_uri=<your_redirect_uri>\n",
    "&scope=user-read-recently-played`\n",
    "\n",
    "https://accounts.spotify.com/authorize?client_id=\"<your_client_id>\"&response_type=code&redirect_uri=http://localhost:8888/callback/&scope=user-read-recently-played"
   ]
  },
  {
   "cell_type": "code",
   "execution_count": 0,
   "metadata": {
    "application/vnd.databricks.v1+cell": {
     "cellMetadata": {
      "byteLimit": 2048000,
      "rowLimit": 10000
     },
     "inputWidgets": {},
     "nuid": "7a87fa59-9458-4c3a-9396-48b2651e8c83",
     "showTitle": false,
     "tableResultSettingsMap": {},
     "title": ""
    }
   },
   "outputs": [],
   "source": [
    "import requests\n",
    "import base64\n",
    "import pandas\n",
    "import psycopg2"
   ]
  },
  {
   "cell_type": "code",
   "execution_count": 0,
   "metadata": {
    "application/vnd.databricks.v1+cell": {
     "cellMetadata": {
      "byteLimit": 2048000,
      "rowLimit": 10000
     },
     "inputWidgets": {},
     "nuid": "63e33063-7832-4d2a-ae41-a2fad9020b58",
     "showTitle": false,
     "tableResultSettingsMap": {},
     "title": ""
    }
   },
   "outputs": [],
   "source": [
    "CLIENT_ID = \"<your_client_id>\"\n",
    "CLIENT_SECRET = \"<your_client_secret>\"\n",
    "REDIRECT_URI = \"http://localhost:8888/callback/\"\n",
    "AUTH_CODE = \"<your_auth_code>\"  #code_from_previous_step\n",
    "\n",
    "token_url = \"https://accounts.spotify.com/api/token\"\n",
    "payload = {\n",
    "    \"grant_type\": \"authorization_code\",\n",
    "    \"code\": AUTH_CODE,\n",
    "    \"redirect_uri\": REDIRECT_URI,\n",
    "    \"client_id\": CLIENT_ID,\n",
    "    \"client_secret\": CLIENT_SECRET,\n",
    "}\n",
    "\n",
    "response = requests.post(token_url, data=payload)\n",
    "print(response.json())\n",
    "refresh_token = response.json()['refresh_token']\n",
    "print(refresh_token)\n"
   ]
  },
  {
   "cell_type": "code",
   "execution_count": 0,
   "metadata": {
    "application/vnd.databricks.v1+cell": {
     "cellMetadata": {
      "byteLimit": 2048000,
      "rowLimit": 10000
     },
     "inputWidgets": {},
     "nuid": "fd6c84fa-29fd-424a-b737-f03bd6353d88",
     "showTitle": false,
     "tableResultSettingsMap": {},
     "title": ""
    }
   },
   "outputs": [],
   "source": [
    "#refresh access token\n",
    "refresh_token = \"<refresh_toaken>\"\n",
    "\n",
    "def refresh_access_token():\n",
    "    url = \"https://accounts.spotify.com/api/token\"\n",
    "    headers = {\n",
    "        \"Authorization\": \"Basic \" + base64.b64encode(f\"{CLIENT_ID}:{CLIENT_SECRET}\".encode()).decode()\n",
    "    }\n",
    "    data = {\n",
    "        \"grant_type\": \"refresh_token\",\n",
    "        \"refresh_token\": refresh_token\n",
    "    }\n",
    "    response = requests.post(url, headers=headers, data=data)\n",
    "    response_data = response.json()\n",
    "    if \"access_token\" in response_data:\n",
    "        return response_data[\"access_token\"]\n",
    "    else:\n",
    "        raise Exception(f\"Failed to refresh token: {response_data}\")\n",
    "\n",
    "# Example usage\n",
    "new_access_token = refresh_access_token()\n",
    "print(\"New Access Token:\", new_access_token)\n"
   ]
  },
  {
   "cell_type": "code",
   "execution_count": 0,
   "metadata": {
    "application/vnd.databricks.v1+cell": {
     "cellMetadata": {
      "byteLimit": 2048000,
      "rowLimit": 10000
     },
     "inputWidgets": {},
     "nuid": "8f0509e2-1970-4ea0-8c57-49ff71b8334c",
     "showTitle": false,
     "tableResultSettingsMap": {},
     "title": ""
    }
   },
   "outputs": [],
   "source": [
    "#Call API to extract data\n",
    "from datetime import datetime\n",
    "import datetime \n",
    "\n",
    "\n",
    "#Define GET url headers \n",
    "headers = {\n",
    "        \"Accept\" : \"application/json\",\n",
    "        \"Content-Type\" : \"application/json\",\n",
    "        \"Authorization\" : \"Bearer {token}\".format(token=new_access_token)\n",
    "    }\n",
    "    \n",
    "\n",
    "#Convert time to Unix timestamp in miliseconds      \n",
    "today = datetime.datetime.now()          #instantiate the current datetime\n",
    "yesterday = today - datetime.timedelta(hours=6)       #instantiate \"6 hours ago\" datetime\n",
    "yesterday_unix_timestamp = int(yesterday.timestamp()) * 1000   #convert timestamp to unixtimestamp as requested by spotifiy API\n",
    "\n",
    "#Download all songs you've listened to which means in the last 6 hours\n",
    "data = requests.get(\"https://api.spotify.com/v1/me/player/recently-played?limit=50&after={time}\".format(time=yesterday_unix_timestamp), headers = headers)\n",
    "data = data.json()\n",
    "data"
   ]
  },
  {
   "cell_type": "code",
   "execution_count": 0,
   "metadata": {
    "application/vnd.databricks.v1+cell": {
     "cellMetadata": {
      "byteLimit": 2048000,
      "rowLimit": 10000
     },
     "inputWidgets": {},
     "nuid": "e7e325d0-926e-4d85-b01f-64271f0d3cde",
     "showTitle": false,
     "tableResultSettingsMap": {},
     "title": ""
    }
   },
   "outputs": [],
   "source": [
    "#begin to explore data \n",
    "\n",
    "for k,v in data.items():            #get keys in data\n",
    "  print('keys : ',k)\n",
    "  print(type(v))\n"
   ]
  },
  {
   "cell_type": "code",
   "execution_count": 0,
   "metadata": {
    "application/vnd.databricks.v1+cell": {
     "cellMetadata": {
      "byteLimit": 2048000,
      "rowLimit": 10000
     },
     "inputWidgets": {},
     "nuid": "67145655-6f90-4238-9fc3-ed78892af210",
     "showTitle": false,
     "tableResultSettingsMap": {},
     "title": ""
    }
   },
   "outputs": [],
   "source": [
    "track = data['items'][0]              \n",
    "for k,v in track.items():            #get keys in tracks\n",
    "  print('keys : ',k)\n",
    "  print(type(v))    \n",
    "\n",
    "# played_at in data['items'][][played_at]"
   ]
  },
  {
   "cell_type": "code",
   "execution_count": 0,
   "metadata": {
    "application/vnd.databricks.v1+cell": {
     "cellMetadata": {
      "byteLimit": 2048000,
      "rowLimit": 10000
     },
     "inputWidgets": {},
     "nuid": "93fa83ad-dfa2-4fb3-83d6-4dead1143635",
     "showTitle": false,
     "tableResultSettingsMap": {},
     "title": ""
    }
   },
   "outputs": [],
   "source": [
    "trackDetails = track['track']        #get one track to explore content\n",
    "for k,v in trackDetails.items():\n",
    "  print('keys : ',k)\n",
    "  print(type(v))  \n",
    "\n",
    "\n",
    "'''\n",
    "Keys of interest are 'album' which is a  dict, 'artists' which is a list, duration_ms an integer,  \n",
    "Next step is to explore \n",
    "\n",
    "'''"
   ]
  },
  {
   "cell_type": "code",
   "execution_count": 0,
   "metadata": {
    "application/vnd.databricks.v1+cell": {
     "cellMetadata": {
      "byteLimit": 2048000,
      "rowLimit": 10000
     },
     "inputWidgets": {},
     "nuid": "d4802501-ffa5-4c71-90d1-0cdd0c9fde36",
     "showTitle": false,
     "tableResultSettingsMap": {},
     "title": ""
    }
   },
   "outputs": [],
   "source": [
    "print(trackDetails['id'])\n",
    "print('---------------')                    #delimeter to improve reability\n",
    "print(trackDetails['name'])\n",
    "print('---------------')\n",
    "print(trackDetails['duration_ms'])\n",
    "print('---------------')\n",
    "print(trackDetails['artists'])\n",
    "print('---------------')\n",
    "print(trackDetails['album'])\n",
    "print('---------------')\n",
    "print(trackDetails['type'])\n"
   ]
  },
  {
   "cell_type": "code",
   "execution_count": 0,
   "metadata": {
    "application/vnd.databricks.v1+cell": {
     "cellMetadata": {
      "byteLimit": 2048000,
      "rowLimit": 10000
     },
     "inputWidgets": {},
     "nuid": "db11786e-6ed3-4319-85c8-e51ffb81a789",
     "showTitle": false,
     "tableResultSettingsMap": {},
     "title": ""
    }
   },
   "outputs": [],
   "source": [
    "trackArtists = trackDetails['artists'][0]      #get one artists to explore content\n",
    "print(trackArtists.keys())\n",
    "print(trackArtists['id'])\n",
    "print(trackArtists['name'])\n",
    "print(trackArtists['type'])\n",
    "\n",
    "\n",
    "# played_at in data['items'][][played_at]"
   ]
  },
  {
   "cell_type": "code",
   "execution_count": 0,
   "metadata": {
    "application/vnd.databricks.v1+cell": {
     "cellMetadata": {
      "byteLimit": 2048000,
      "rowLimit": 10000
     },
     "inputWidgets": {},
     "nuid": "61f50909-2585-4760-8f83-c2bcf829d796",
     "showTitle": true,
     "tableResultSettingsMap": {},
     "title": "Explore Album Details"
    }
   },
   "outputs": [],
   "source": [
    "trackAlbum = trackDetails['album']      #get one track to explore content\n",
    "for k,v in trackAlbum.items():\n",
    "  print('keys : ',k)\n",
    "\n",
    "trackAlbum['name']\n",
    "trackAlbum['id']\n"
   ]
  },
  {
   "cell_type": "code",
   "execution_count": 0,
   "metadata": {
    "application/vnd.databricks.v1+cell": {
     "cellMetadata": {
      "byteLimit": 2048000,
      "rowLimit": 10000
     },
     "inputWidgets": {},
     "nuid": "2cc5b2a5-ba82-4df0-9adb-1043d66efe96",
     "showTitle": false,
     "tableResultSettingsMap": {},
     "title": ""
    }
   },
   "outputs": [],
   "source": [
    "# list all datapoints  of interest\n",
    "'''\n",
    "data['items'][0][played_at]                              #time song was played\n",
    "data['items'][0]['track']['id']                          #track id\n",
    "data['items'][0]['track']['name']                        #track name\n",
    "data['items'][0]['track']['duration_ms']                 #duration of track/duration played\n",
    "data['items'][0]['track']['artists'][0]['id']            # primary artist's id\n",
    "data['items'][0]['track']['artists'][0]['name']          # primary artist's name\n",
    "data['items'][0]['track']['album']['id']                 # album id\n",
    "data['items'][0]['track']['album']['name']               # album name\n",
    "'''"
   ]
  },
  {
   "cell_type": "code",
   "execution_count": 0,
   "metadata": {
    "application/vnd.databricks.v1+cell": {
     "cellMetadata": {
      "byteLimit": 2048000,
      "rowLimit": 10000
     },
     "inputWidgets": {},
     "nuid": "deff63ed-c8bf-462d-b812-d6739d91c7b2",
     "showTitle": false,
     "tableResultSettingsMap": {},
     "title": ""
    }
   },
   "outputs": [],
   "source": [
    "\n",
    "# Database connection parameters\n",
    "host = \"<your_postreSQL_instance_name>\"\n",
    "database = \"<your_database_name\"\n",
    "user = \"<your_username>\"\n",
    "password = \"<your_password>\"\n",
    "port = \"5432\"  # Default port for PostgreSQL\n",
    "\n",
    "# Establish the connection\n",
    "conn = psycopg2.connect(\n",
    "    host=host,\n",
    "    database=database,\n",
    "    user=user,\n",
    "    password=password,\n",
    "    port=port\n",
    ")\n",
    "\n",
    "# Create a cursor object to interact with the database\n",
    "cursor = conn.cursor()"
   ]
  },
  {
   "cell_type": "code",
   "execution_count": 0,
   "metadata": {
    "application/vnd.databricks.v1+cell": {
     "cellMetadata": {
      "byteLimit": 2048000,
      "rowLimit": 10000
     },
     "inputWidgets": {},
     "nuid": "e3c66751-7031-446d-ab2a-c06af2d42ae8",
     "showTitle": false,
     "tableResultSettingsMap": {},
     "title": ""
    }
   },
   "outputs": [],
   "source": [
    "\n",
    "create_table_query = \"\"\"\n",
    "CREATE TABLE IF NOT EXISTS spotify_recently_playeds (\n",
    "    played_at_utc TIMESTAMP PRIMARY KEY,\n",
    "    track_id TEXT,\n",
    "    track_name TEXT,\n",
    "    duration_ms INT,\n",
    "    artist_id TEXT,\n",
    "    artist_NAME TEXT,\n",
    "    album_id TEXT,\n",
    "    album_name TEXT\n",
    ");\n",
    "\"\"\"\n",
    "\n",
    "cursor.execute(create_table_query)\n",
    "conn.commit()  # Commit the changes\n"
   ]
  },
  {
   "cell_type": "code",
   "execution_count": 0,
   "metadata": {
    "application/vnd.databricks.v1+cell": {
     "cellMetadata": {
      "byteLimit": 2048000,
      "rowLimit": 10000
     },
     "inputWidgets": {},
     "nuid": "7c7fa789-a7e1-45ae-977d-1922e0051e4c",
     "showTitle": false,
     "tableResultSettingsMap": {},
     "title": ""
    }
   },
   "outputs": [],
   "source": [
    "for track in data['items']:  \n",
    "    played_at = track['played_at']\n",
    "    track_id =  track['track']['id']\n",
    "    track_name = track['track']['name']\n",
    "    duration_ms = track['track']['duration_ms']    \n",
    "    artist_id = track['track']['artists'][0]['id']\n",
    "    artist_name = track['track']['artists'][0]['name']\n",
    "    album_id = track['track']['album']['id'] \n",
    "    album_name = track['track']['album']['name'] \n",
    "\n",
    "    insert_query = \"\"\"\n",
    "    INSERT INTO spotify_recently_played (played_at, track_id, track_name, duration_ms, artist_id, artist_name, album_id, album_name)\n",
    "    VALUES (%s, %s, %s, %s, %s, %s, %s, %s)\n",
    "    ON CONFLICT (played_at) DO NOTHING;\n",
    "    \"\"\"\n",
    "    \n",
    "    cursor.execute(insert_query, (played_at, track_id, track_name, duration_ms, artist_id, artist_name, album_id, album_name))\n",
    "\n",
    "# Commit the changes\n",
    "conn.commit()\n",
    "\n",
    "# Close the connection to the database\n",
    "conn.close()"
   ]
  },
  {
   "cell_type": "code",
   "execution_count": 0,
   "metadata": {
    "application/vnd.databricks.v1+cell": {
     "cellMetadata": {
      "byteLimit": 2048000,
      "rowLimit": 10000
     },
     "inputWidgets": {},
     "nuid": "b0bc470a-4bf2-4c24-9074-082a54b37225",
     "showTitle": false,
     "tableResultSettingsMap": {},
     "title": ""
    }
   },
   "outputs": [],
   "source": [
    "#validation check to see if the latest insert matches the latest listening time\n",
    "\n",
    "cursor.execute(\"SELECT MAX(played_at) FROM spotify_recently_played;\")\n",
    "rows = cursor.fetchall()\n",
    "for row in rows:\n",
    "    print(row)\n",
    "    "
   ]
  }
 ],
 "metadata": {
  "application/vnd.databricks.v1+notebook": {
   "computePreferences": null,
   "dashboards": [],
   "environmentMetadata": {
    "base_environment": "",
    "client": "1"
   },
   "language": "python",
   "notebookMetadata": {
    "pythonIndentUnit": 4
   },
   "notebookName": "Spotify Data ETL",
   "widgets": {}
  },
  "language_info": {
   "name": "python"
  }
 },
 "nbformat": 4,
 "nbformat_minor": 0
}
